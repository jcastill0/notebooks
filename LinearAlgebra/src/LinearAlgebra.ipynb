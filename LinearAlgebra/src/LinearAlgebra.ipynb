{
 "cells": [
  {
   "cell_type": "markdown",
   "metadata": {},
   "source": [
    "# Linear Algebra"
   ]
  },
  {
   "cell_type": "code",
   "execution_count": 7,
   "metadata": {
    "collapsed": true
   },
   "outputs": [],
   "source": [
    "%run vector.py"
   ]
  },
  {
   "cell_type": "code",
   "execution_count": 31,
   "metadata": {},
   "outputs": [
    {
     "name": "stdout",
     "output_type": "stream",
     "text": [
      "Plus: Vector: (Decimal('7.08899999999999996802557689080'), Decimal('-7.22999999999999909405801190587'))\n",
      "Minus: Vector: (Decimal('15.3420000000000005258016244625'), Decimal('7.33699999999999985522691758888'))\n",
      "Times: Vector: (Decimal('12.3821100000000005402078784300'), Decimal('-7.49892000000000022279067479758'), Decimal('-2.35638000000000008138822948922'))\n",
      "Magnitude: 7.4402829247280646285389593685977160930633544921875\n",
      "Magnitude: 10.8841875672922885343041343730874359607696533203125\n",
      "Normalized: Vector: (Decimal('0.933935214086640295130539147343'), Decimal('-0.357442325262329983594964055642'))\n",
      "Normalized: Vector: (Decimal('0.340401295943301353537171045562'), Decimal('0.530043701298487295255023200306'), Decimal('-0.776647044952802835008995686630'))\n",
      "Dot: -41.378148\n",
      "Dot: 56.397178\n",
      "Angle: 3.0720263098372476\n",
      "Angle: 60.27581120523091\n"
     ]
    }
   ],
   "source": [
    "v = Vector ([8.218, -9.341])\n",
    "w = Vector ([-1.129, 2.111])\n",
    "print ('Plus:', v.plus(w))\n",
    "\n",
    "v = Vector ([7.119, 8.215])\n",
    "w = Vector ([-8.223, 0.878])\n",
    "print ('Minus:', v.minus(w))\n",
    "\n",
    "v = Vector ([1.671, -1.012, -0.318])\n",
    "c = 7.41\n",
    "print ('Times:', v.times_scalar(c))\n",
    "\n",
    "v = Vector ([-0.221, 7.437])\n",
    "print ('Magnitude:', v.magnitude())\n",
    "\n",
    "v = Vector ([8.813, -1.331, -6.247])\n",
    "print ('Magnitude:', v.magnitude())\n",
    "\n",
    "v = Vector ([5.581, -2.136])\n",
    "print ('Normalized:', v.normalized())\n",
    "\n",
    "v = Vector ([1.996, 3.108, -4.554])\n",
    "print ('Normalized:', v.normalized())\n",
    "\n",
    "v = Vector(['7.887', '4.138'])\n",
    "w = Vector(['-8.802', '6.777'])\n",
    "print ('Dot:', v.dot(w))\n",
    "\n",
    "v = Vector(['-5.955', '-4.904', '-1.874'])\n",
    "w = Vector(['-4.496', '-8.755', '7.103'])\n",
    "print ('Dot:', v.dot(w))\n",
    "\n",
    "v = Vector(['3.183', '-7.627'])\n",
    "w = Vector(['-2.668', '5.319'])\n",
    "print ('Angle:', v.angle_with(w))\n",
    "\n",
    "v = Vector(['7.35', '0.221', '5.188'])\n",
    "w = Vector(['2.751', '8.259', '3.985'])\n",
    "print ('Angle:', v.angle_with(w, in_degrees=True))"
   ]
  },
  {
   "cell_type": "code",
   "execution_count": 54,
   "metadata": {},
   "outputs": [
    {
     "name": "stdout",
     "output_type": "stream",
     "text": [
      "first pair..\n",
      "Is parallel: True\n",
      "Is orthogonal: False\n",
      "second pair..\n",
      "Is parallel: False\n",
      "Is orthogonal: False\n",
      "third pair..\n",
      "Is parallel: False\n",
      "Is orthogonal: True\n",
      "fourth pair..\n",
      "Is parallel: True\n",
      "Is orthogonal: True\n"
     ]
    }
   ],
   "source": [
    "print ('first pair..')\n",
    "v = Vector(['-7.579', '-7.88'])\n",
    "w = Vector(['22.737', '23.64'])\n",
    "print ('Is parallel:', v.is_parallel_to(w))\n",
    "print ('Is orthogonal:', v.is_orthogonal_to(w))\n",
    "\n",
    "print ('second pair..')\n",
    "v = Vector(['-2.029', '9.97', '4.172'])\n",
    "w = Vector(['-9.231', '-6.639', '-7.245'])\n",
    "print ('Is parallel:', v.is_parallel_to(w))\n",
    "print ('Is orthogonal:', v.is_orthogonal_to(w))\n",
    "\n",
    "print ('third pair..')\n",
    "v = Vector(['-2.328', '-7.284', '-1.214'])\n",
    "w = Vector(['-1.821', '1.072', '-2.94'])\n",
    "print ('Is parallel:', v.is_parallel_to(w))\n",
    "print ('Is orthogonal:', v.is_orthogonal_to(w))\n",
    "\n",
    "print ('fourth pair..')\n",
    "v = Vector(['2.118', '4.827'])\n",
    "w = Vector(['0', '0'])\n",
    "print ('Is parallel:', v.is_parallel_to(w))\n",
    "print ('Is orthogonal:', v.is_orthogonal_to(w))\n"
   ]
  },
  {
   "cell_type": "code",
   "execution_count": 8,
   "metadata": {},
   "outputs": [
    {
     "name": "stdout",
     "output_type": "stream",
     "text": [
      "#1\n",
      "Vector: (Decimal('1.08260696248446669921320880516'), Decimal('2.67174275832530224589459303452'))\n",
      "\n",
      "#2\n",
      "Vector: (Decimal('-8.35008104319576298139037182171'), Decimal('3.37606125428772042918826614535'), Decimal('-1.43374604278118531453872963265'))\n",
      "\n",
      "#3\n",
      "parallel component Vector: (Decimal('1.96851616721408976169328214908'), Decimal('-2.81076074843935622616363571113'), Decimal('0.848084963357850331356993057470'), Decimal('2.67981323325615782557589918679'))\n",
      "orthogonal component Vector: (Decimal('1.04048383278591013527802116571'), Decimal('-3.36123925156064348251384262723'), Decimal('2.84391503664214983917326352495'), Decimal('-5.18981323325615761241307845876'))\n",
      "#1: Vector: (Decimal('-11.204571'), Decimal('-97.609444'), Decimal('-105.685162'))\n",
      "#2: 142.1222214018463319007423706352710723876953125\n",
      "#3: 42.7355568633978180059784790501\n"
     ]
    }
   ],
   "source": [
    "print ('#1')\n",
    "v = Vector([3.039, 1.879])\n",
    "w = Vector([0.825, 2.036])\n",
    "print (v.component_parallel_to(w))\n",
    "\n",
    "print ('\\n#2')\n",
    "v = Vector([-9.88, -3.264, -8.159])\n",
    "w = Vector([-2.155, -9.353, -9.473])\n",
    "print (v.component_orthogonal_to(w))\n",
    "\n",
    "print ('\\n#3')\n",
    "v = Vector([3.009, -6.172, 3.692, -2.51])\n",
    "w = Vector([6.404, -9.144, 2.759, 8.718])\n",
    "vpar = v.component_parallel_to(w)\n",
    "vort = v.component_orthogonal_to(w)\n",
    "print (\"parallel component\", vpar)\n",
    "print (\"orthogonal component\", vort)\n",
    "\n",
    "v = Vector(['8.462', '7.893', '-8.187'])\n",
    "w = Vector(['6.984', '-5.975', '4.778'])\n",
    "print ('#1:', v.cross(w))\n",
    "\n",
    "v = Vector(['-8.987', '-9.838', '5.031'])\n",
    "w = Vector(['-4.268', '-1.861', '-8.866'])\n",
    "print ('#2:', v.area_of_parallelogram_with(w))\n",
    "\n",
    "v = Vector(['1.5', '9.547', '3.691'])\n",
    "w = Vector(['-6.007', '-0.124', '5.772'])\n",
    "print ('#3:', v.area_of_triangle_with(w))\n"
   ]
  },
  {
   "cell_type": "code",
   "execution_count": null,
   "metadata": {
    "collapsed": true
   },
   "outputs": [],
   "source": []
  }
 ],
 "metadata": {
  "kernelspec": {
   "display_name": "Python 3",
   "language": "python",
   "name": "python3"
  },
  "language_info": {
   "codemirror_mode": {
    "name": "ipython",
    "version": 3
   },
   "file_extension": ".py",
   "mimetype": "text/x-python",
   "name": "python",
   "nbconvert_exporter": "python",
   "pygments_lexer": "ipython3",
   "version": "3.6.1"
  }
 },
 "nbformat": 4,
 "nbformat_minor": 2
}
