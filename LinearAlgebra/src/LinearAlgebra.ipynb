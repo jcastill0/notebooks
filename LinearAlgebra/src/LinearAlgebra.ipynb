{
 "cells": [
  {
   "cell_type": "code",
   "execution_count": 11,
   "metadata": {
    "collapsed": true,
    "deletable": true,
    "editable": true
   },
   "outputs": [],
   "source": [
    "# %load vector.py\n",
    "\n",
    "from math import sqrt\n",
    "\n",
    "class Vector(object):\n",
    "    def __init__(self, coordinates):\n",
    "        try:\n",
    "            if not coordinates:\n",
    "                raise ValueError\n",
    "            self.coordinates = tuple (coordinates)\n",
    "            self.dimension = len(coordinates)\n",
    "        except ValueError:\n",
    "            raise ValueError('The coordinates must be nonempty')\n",
    "        except TypeError:\n",
    "            raise TypeError('The coordinates must be iterable')\n",
    "\n",
    "    def __str__(self):\n",
    "        return 'Vector: {}'.format(self.coordinates)\n",
    "    \n",
    "    def __eq__(self, v):\n",
    "        return (self.coordinates == v.coordinates)\n",
    "    \n",
    "    def plus (self, v):\n",
    "        new_coords = [x+y for x,y in zip(self.coordinates, v.coordinates)]\n",
    "        #new_coords = []\n",
    "        #n = len(self.coordinates)\n",
    "        #for i in range(n):\n",
    "        #    new_coords.append(self.coordinates[i] + v.coordinates[i])\n",
    "        return (Vector(new_coords))\n",
    "    \n",
    "    def minus (self, v):\n",
    "        new_coords = [x-y for x,y in zip(self.coordinates, v.coordinates)]\n",
    "        return (Vector(new_coords))\n",
    "    \n",
    "    def times_scalar(self, c):\n",
    "        new_coords = [c*x for x in self.coordinates]\n",
    "        return (Vector(new_coords))\n",
    "    \n",
    "    def magnitude (self):\n",
    "        coordinates_squared = [x**2 for x in self.coordinates]\n",
    "        return (sqrt(sum(coordinates_squared)))\n",
    "    \n",
    "    def normalized (self):\n",
    "        try:\n",
    "            magnitude = self.magnitude()\n",
    "            return (self.times_scalar(1./magnitude))\n",
    "        except ZeroDivisionError:\n",
    "            raise Exception ('Cannot normalize the zero vector')"
   ]
  },
  {
   "cell_type": "code",
   "execution_count": 14,
   "metadata": {
    "collapsed": false,
    "deletable": true,
    "editable": true
   },
   "outputs": [
    {
     "name": "stdout",
     "output_type": "stream",
     "text": [
      "Vector: (7.089, -7.229999999999999)\n",
      "Vector: (15.342, 7.337)\n",
      "Vector: (12.38211, -7.49892, -2.35638)\n",
      "7.440282924728065\n",
      "10.884187567292289\n",
      "Vector: (0.9339352140866403, -0.35744232526233)\n",
      "Vector: (0.3404012959433014, 0.5300437012984873, -0.7766470449528029)\n"
     ]
    }
   ],
   "source": [
    "v = Vector ([8.218, -9.341])\n",
    "w = Vector ([-1.129, 2.111])\n",
    "print (v.plus(w))\n",
    "\n",
    "v = Vector ([7.119, 8.215])\n",
    "w = Vector ([-8.223, 0.878])\n",
    "print (v.minus(w))\n",
    "\n",
    "v = Vector ([1.671, -1.012, -0.318])\n",
    "c = 7.41\n",
    "print (v.times_scalar(c))\n",
    "\n",
    "v = Vector ([-0.221, 7.437])\n",
    "print (v.magnitude())\n",
    "\n",
    "v = Vector ([8.813, -1.331, -6.247])\n",
    "print (v.magnitude())\n",
    "\n",
    "v = Vector ([5.581, -2.136])\n",
    "print (v.normalized())\n",
    "\n",
    "v = Vector ([1.996, 3.108, -4.554])\n",
    "print (v.normalized())"
   ]
  },
  {
   "cell_type": "markdown",
   "metadata": {
    "deletable": true,
    "editable": true
   },
   "source": [
    "# Linear Algebra"
   ]
  },
  {
   "cell_type": "code",
   "execution_count": 7,
   "metadata": {
    "collapsed": false,
    "deletable": true,
    "editable": true
   },
   "outputs": [
    {
     "name": "stdout",
     "output_type": "stream",
     "text": [
      "Hello\n"
     ]
    }
   ],
   "source": [
    "run vector.py"
   ]
  },
  {
   "cell_type": "markdown",
   "metadata": {
    "deletable": true,
    "editable": true
   },
   "source": [
    "# This is the data for mice1"
   ]
  },
  {
   "cell_type": "code",
   "execution_count": null,
   "metadata": {
    "collapsed": true,
    "deletable": true,
    "editable": true
   },
   "outputs": [],
   "source": []
  }
 ],
 "metadata": {
  "kernelspec": {
   "display_name": "Python 3",
   "language": "python",
   "name": "python3"
  },
  "language_info": {
   "codemirror_mode": {
    "name": "ipython",
    "version": 3
   },
   "file_extension": ".py",
   "mimetype": "text/x-python",
   "name": "python",
   "nbconvert_exporter": "python",
   "pygments_lexer": "ipython3",
   "version": "3.6.1"
  }
 },
 "nbformat": 4,
 "nbformat_minor": 2
}
