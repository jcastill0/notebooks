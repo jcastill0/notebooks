{
 "cells": [
  {
   "cell_type": "markdown",
   "metadata": {},
   "source": [
    "# Linear Algebra"
   ]
  },
  {
   "cell_type": "code",
   "execution_count": 51,
   "metadata": {},
   "outputs": [],
   "source": [
    "%run vector.py"
   ]
  },
  {
   "cell_type": "code",
   "execution_count": 31,
   "metadata": {},
   "outputs": [
    {
     "name": "stdout",
     "output_type": "stream",
     "text": [
      "Plus: Vector: (Decimal('7.08899999999999996802557689080'), Decimal('-7.22999999999999909405801190587'))\n",
      "Minus: Vector: (Decimal('15.3420000000000005258016244625'), Decimal('7.33699999999999985522691758888'))\n",
      "Times: Vector: (Decimal('12.3821100000000005402078784300'), Decimal('-7.49892000000000022279067479758'), Decimal('-2.35638000000000008138822948922'))\n",
      "Magnitude: 7.4402829247280646285389593685977160930633544921875\n",
      "Magnitude: 10.8841875672922885343041343730874359607696533203125\n",
      "Normalized: Vector: (Decimal('0.933935214086640295130539147343'), Decimal('-0.357442325262329983594964055642'))\n",
      "Normalized: Vector: (Decimal('0.340401295943301353537171045562'), Decimal('0.530043701298487295255023200306'), Decimal('-0.776647044952802835008995686630'))\n",
      "Dot: -41.378148\n",
      "Dot: 56.397178\n",
      "Angle: 3.0720263098372476\n",
      "Angle: 60.27581120523091\n"
     ]
    }
   ],
   "source": [
    "v = Vector ([8.218, -9.341])\n",
    "w = Vector ([-1.129, 2.111])\n",
    "print ('Plus:', v.plus(w))\n",
    "\n",
    "v = Vector ([7.119, 8.215])\n",
    "w = Vector ([-8.223, 0.878])\n",
    "print ('Minus:', v.minus(w))\n",
    "\n",
    "v = Vector ([1.671, -1.012, -0.318])\n",
    "c = 7.41\n",
    "print ('Times:', v.times_scalar(c))\n",
    "\n",
    "v = Vector ([-0.221, 7.437])\n",
    "print ('Magnitude:', v.magnitude())\n",
    "\n",
    "v = Vector ([8.813, -1.331, -6.247])\n",
    "print ('Magnitude:', v.magnitude())\n",
    "\n",
    "v = Vector ([5.581, -2.136])\n",
    "print ('Normalized:', v.normalized())\n",
    "\n",
    "v = Vector ([1.996, 3.108, -4.554])\n",
    "print ('Normalized:', v.normalized())\n",
    "\n",
    "v = Vector(['7.887', '4.138'])\n",
    "w = Vector(['-8.802', '6.777'])\n",
    "print ('Dot:', v.dot(w))\n",
    "\n",
    "v = Vector(['-5.955', '-4.904', '-1.874'])\n",
    "w = Vector(['-4.496', '-8.755', '7.103'])\n",
    "print ('Dot:', v.dot(w))\n",
    "\n",
    "v = Vector(['3.183', '-7.627'])\n",
    "w = Vector(['-2.668', '5.319'])\n",
    "print ('Angle:', v.angle_with(w))\n",
    "\n",
    "v = Vector(['7.35', '0.221', '5.188'])\n",
    "w = Vector(['2.751', '8.259', '3.985'])\n",
    "print ('Angle:', v.angle_with(w, in_degrees=True))"
   ]
  },
  {
   "cell_type": "code",
   "execution_count": 54,
   "metadata": {},
   "outputs": [
    {
     "name": "stdout",
     "output_type": "stream",
     "text": [
      "first pair..\n",
      "Is parallel: True\n",
      "Is orthogonal: False\n",
      "second pair..\n",
      "Is parallel: False\n",
      "Is orthogonal: False\n",
      "third pair..\n",
      "Is parallel: False\n",
      "Is orthogonal: True\n",
      "fourth pair..\n",
      "Is parallel: True\n",
      "Is orthogonal: True\n"
     ]
    }
   ],
   "source": [
    "print ('first pair..')\n",
    "v = Vector(['-7.579', '-7.88'])\n",
    "w = Vector(['22.737', '23.64'])\n",
    "print ('Is parallel:', v.is_parallel_to(w))\n",
    "print ('Is orthogonal:', v.is_orthogonal_to(w))\n",
    "\n",
    "print ('second pair..')\n",
    "v = Vector(['-2.029', '9.97', '4.172'])\n",
    "w = Vector(['-9.231', '-6.639', '-7.245'])\n",
    "print ('Is parallel:', v.is_parallel_to(w))\n",
    "print ('Is orthogonal:', v.is_orthogonal_to(w))\n",
    "\n",
    "print ('third pair..')\n",
    "v = Vector(['-2.328', '-7.284', '-1.214'])\n",
    "w = Vector(['-1.821', '1.072', '-2.94'])\n",
    "print ('Is parallel:', v.is_parallel_to(w))\n",
    "print ('Is orthogonal:', v.is_orthogonal_to(w))\n",
    "\n",
    "print ('fourth pair..')\n",
    "v = Vector(['2.118', '4.827'])\n",
    "w = Vector(['0', '0'])\n",
    "print ('Is parallel:', v.is_parallel_to(w))\n",
    "print ('Is orthogonal:', v.is_orthogonal_to(w))\n"
   ]
  },
  {
   "cell_type": "code",
   "execution_count": null,
   "metadata": {
    "collapsed": true
   },
   "outputs": [],
   "source": []
  }
 ],
 "metadata": {
  "kernelspec": {
   "display_name": "Python [default]",
   "language": "python",
   "name": "python3"
  },
  "language_info": {
   "codemirror_mode": {
    "name": "ipython",
    "version": 3
   },
   "file_extension": ".py",
   "mimetype": "text/x-python",
   "name": "python",
   "nbconvert_exporter": "python",
   "pygments_lexer": "ipython3",
   "version": "3.5.2"
  }
 },
 "nbformat": 4,
 "nbformat_minor": 2
}
